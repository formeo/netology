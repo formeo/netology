{
 "cells": [
  {
   "cell_type": "code",
   "execution_count": 20,
   "metadata": {},
   "outputs": [],
   "source": [
    "import pandas as pd"
   ]
  },
  {
   "cell_type": "code",
   "execution_count": 21,
   "metadata": {
    "collapsed": true
   },
   "outputs": [],
   "source": [
    "DATA_PATH = 'names/'"
   ]
  },
  {
   "cell_type": "code",
   "execution_count": 22,
   "metadata": {},
   "outputs": [],
   "source": [
    "def  count_top3(year_list):\n",
    "    names_by_year = {}\n",
    "    for year in year_list:\n",
    "        names_by_year[year] = pd.read_csv(DATA_PATH + 'yob{}.txt'.format(year),names=['Name','Gender','Count'])\n",
    "    names_all = pd.concat(names_by_year)\n",
    "    l = names_all.groupby('Name').sum().sort_values(by='Count', ascending=False).head(3)\n",
    "    return l.axes[0].values.tolist()"
   ]
  },
  {
   "cell_type": "code",
   "execution_count": 23,
   "metadata": {},
   "outputs": [
    {
     "data": {
      "text/plain": [
       "['John', 'William', 'Mary']"
      ]
     },
     "execution_count": 23,
     "metadata": {},
     "output_type": "execute_result"
    }
   ],
   "source": [
    "count_top3([1880])"
   ]
  },
  {
   "cell_type": "code",
   "execution_count": 24,
   "metadata": {},
   "outputs": [
    {
     "data": {
      "text/plain": [
       "['James', 'John', 'Robert']"
      ]
     },
     "execution_count": 24,
     "metadata": {},
     "output_type": "execute_result"
    }
   ],
   "source": [
    "count_top3([1900, 1950, 2000])"
   ]
  },
  {
   "cell_type": "code",
   "execution_count": 25,
   "metadata": {
    "collapsed": true
   },
   "outputs": [],
   "source": [
    "def count_dynamics(year_list):\n",
    "    names_by_year = {}\n",
    "    for year in year_list:\n",
    "        names_by_year[year] = pd.read_csv(DATA_PATH + 'yob{}.txt'.format(year), names=['Name', 'Gender', 'Count'])\n",
    "    names_all = pd.concat(names_by_year, names=['Year', 'Pos'])\n",
    "    l = names_all.groupby([names_all.index.get_level_values(0), 'Gender']).sum()\n",
    "    result = {}\n",
    "    M = []\n",
    "    F = []\n",
    "    for enum_values in l.values.tolist()[::2]:\n",
    "        F.append(enum_values)\n",
    "    for enum_values in l.values.tolist()[1::2]:\n",
    "        M.append(enum_values)\n",
    "    result['M'] = M\n",
    "    result['F'] = F\n",
    "    return result"
   ]
  },
  {
   "cell_type": "code",
   "execution_count": 26,
   "metadata": {},
   "outputs": [
    {
     "data": {
      "text/plain": [
       "{'F': [[299810], [1713259], [1814922]], 'M': [[150486], [1790871], [1962744]]}"
      ]
     },
     "execution_count": 26,
     "metadata": {},
     "output_type": "execute_result"
    }
   ],
   "source": [
    "count_dynamics([1900, 1950, 2000])"
   ]
  },
  {
   "cell_type": "code",
   "execution_count": 27,
   "metadata": {},
   "outputs": [
    {
     "data": {
      "text/plain": [
       "{'F': [[299810], [1814922]], 'M': [[150486], [1962744]]}"
      ]
     },
     "execution_count": 27,
     "metadata": {},
     "output_type": "execute_result"
    }
   ],
   "source": [
    "count_dynamics([1900,2000])"
   ]
  },
  {
   "cell_type": "code",
   "execution_count": null,
   "metadata": {
    "collapsed": true
   },
   "outputs": [],
   "source": []
  }
 ],
 "metadata": {
  "kernelspec": {
   "display_name": "Python 3",
   "language": "python",
   "name": "python3"
  },
  "language_info": {
   "codemirror_mode": {
    "name": "ipython",
    "version": 3
   },
   "file_extension": ".py",
   "mimetype": "text/x-python",
   "name": "python",
   "nbconvert_exporter": "python",
   "pygments_lexer": "ipython3",
   "version": "3.6.2"
  }
 },
 "nbformat": 4,
 "nbformat_minor": 2
}
